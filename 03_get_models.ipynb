{
 "cells": [
  {
   "cell_type": "code",
   "execution_count": 3,
   "metadata": {},
   "outputs": [
    {
     "name": "stdout",
     "output_type": "stream",
     "text": [
      "Models loaded\n"
     ]
    }
   ],
   "source": [
    "from sklearn.ensemble import *\n",
    "from sklearn.linear_model import *\n",
    "from sklearn.neighbors import *\n",
    "from sklearn.svm import *\n",
    "from sklearn.tree import *\n",
    "from catboost import CatBoostRegressor\n",
    "from xgboost import XGBRegressor\n",
    "\n",
    "\n",
    "tune_models = False\n",
    "\n",
    "if tune_models:\n",
    "    %run 02_tune_models.ipynb\n",
    "    param_repo=tuned_param_repo\n",
    "else:\n",
    "    param_repo=\"{'KNeighborsRegressor': {'algorithm': 'ball_tree', 'leaf_size': 30, 'n_neighbors': 8, 'p': 1, 'weights': 'distance'}, 'LinearRegression': {'copy_X': True, 'fit_intercept': True}, 'DecisionTreeRegressor': {'criterion': 'squared_error', 'max_depth': 7, 'max_features': 0.4, 'min_samples_leaf': 9, 'min_samples_split': 4, 'splitter': 'best'}, 'RandomForestRegressor': {'max_depth': None, 'max_features': 'sqrt', 'min_samples_leaf': 1, 'n_estimators': 500}, 'AdaBoostRegressor': {'learning_rate': 0.1, 'n_estimators': 500}, 'GradientBoostingRegressor': {'learning_rate': 0.01, 'max_depth': 5, 'max_features': 0.3, 'n_estimators': 500, 'subsample': 0.5}, 'SVR': {'C': 10.0, 'gamma': 'scale', 'kernel': 'rbf', 'shrinking': True}, 'CatBoostRegressor': {'depth': 7, 'iterations': 300, 'l2_leaf_reg': 1, 'learning_rate': 0.1},'XGBRegressor': {'learning_rate': 0.1, 'max_depth': 3, 'n_estimators': 300, 'subsample': 0.5}}\"\n",
    "    # create dict from string\n",
    "    param_repo = eval(param_repo)\n",
    "    \n",
    "models={\n",
    "    'KNeighborsRegressor': KNeighborsRegressor(\n",
    "        algorithm=param_repo['KNeighborsRegressor']['algorithm'],\n",
    "        leaf_size=param_repo['KNeighborsRegressor']['leaf_size'],\n",
    "        n_neighbors=param_repo['KNeighborsRegressor']['n_neighbors'],\n",
    "        p=param_repo['KNeighborsRegressor']['p'],\n",
    "        weights=param_repo['KNeighborsRegressor']['weights']),\n",
    "    'LinearRegression': LinearRegression(\n",
    "        copy_X=param_repo['LinearRegression']['copy_X'],\n",
    "        fit_intercept=param_repo['LinearRegression']['fit_intercept']),\n",
    "    'DecisionTreeRegressor': DecisionTreeRegressor(\n",
    "        criterion=param_repo['DecisionTreeRegressor']['criterion'],\n",
    "        max_depth=param_repo['DecisionTreeRegressor']['max_depth'],\n",
    "        min_samples_leaf=param_repo['DecisionTreeRegressor']['min_samples_leaf'],\n",
    "        min_samples_split=param_repo['DecisionTreeRegressor']['min_samples_split'],\n",
    "        max_features=param_repo['DecisionTreeRegressor']['max_features'],\n",
    "        splitter=param_repo['DecisionTreeRegressor']['splitter']),\n",
    "    'RandomForestRegressor': RandomForestRegressor(\n",
    "        max_depth=param_repo['RandomForestRegressor']['max_depth'],\n",
    "        max_features=param_repo['RandomForestRegressor']['max_features'],\n",
    "        n_estimators=param_repo['RandomForestRegressor']['n_estimators'],\n",
    "        min_samples_leaf=param_repo['RandomForestRegressor']['min_samples_leaf'], random_state=42),\n",
    "    'AdaBoostRegressor': AdaBoostRegressor(\n",
    "        learning_rate=param_repo['AdaBoostRegressor']['learning_rate'],\n",
    "        n_estimators=param_repo['AdaBoostRegressor']['n_estimators'], random_state=42),\n",
    "    'GradientBoostingRegressor': GradientBoostingRegressor(\n",
    "        learning_rate=param_repo['GradientBoostingRegressor']['learning_rate'],\n",
    "        max_depth=param_repo['GradientBoostingRegressor']['max_depth'],\n",
    "        max_features=param_repo['GradientBoostingRegressor']['max_features'],\n",
    "        n_estimators=param_repo['GradientBoostingRegressor']['n_estimators'],\n",
    "        subsample=param_repo['GradientBoostingRegressor']['subsample'], random_state=42),\n",
    "    'SVR': SVR(\n",
    "        C=param_repo['SVR']['C'],\n",
    "        gamma=param_repo['SVR']['gamma'],\n",
    "        kernel=param_repo['SVR']['kernel'],\n",
    "        shrinking=param_repo['SVR']['shrinking']),\n",
    "    'CatBoostRegressor': CatBoostRegressor(\n",
    "        depth=param_repo['CatBoostRegressor']['depth'],\n",
    "        iterations=param_repo['CatBoostRegressor']['iterations'],\n",
    "        l2_leaf_reg=param_repo['CatBoostRegressor']['l2_leaf_reg'],\n",
    "        learning_rate=param_repo['CatBoostRegressor']['learning_rate'], random_state=42,\n",
    "        logging_level='Silent'),\n",
    "    'XGBRegressor': XGBRegressor(\n",
    "        learning_rate=param_repo['XGBRegressor']['learning_rate'],\n",
    "        max_depth=param_repo['XGBRegressor']['max_depth'],\n",
    "        n_estimators=param_repo['XGBRegressor']['n_estimators'],\n",
    "        subsample=param_repo['XGBRegressor']['subsample'], random_state=42),\n",
    "    'ElasticNet': ElasticNet(),\n",
    "    'BaggingRegressor': BaggingRegressor(),\n",
    "    \n",
    "}\n",
    "\n",
    "print(\"Models loaded\")\n",
    "\n",
    "\n"
   ]
  },
  {
   "cell_type": "code",
   "execution_count": null,
   "metadata": {},
   "outputs": [],
   "source": []
  },
  {
   "cell_type": "code",
   "execution_count": null,
   "metadata": {},
   "outputs": [],
   "source": []
  }
 ],
 "metadata": {
  "kernelspec": {
   "display_name": "torch_ds",
   "language": "python",
   "name": "python3"
  },
  "language_info": {
   "codemirror_mode": {
    "name": "ipython",
    "version": 3
   },
   "file_extension": ".py",
   "mimetype": "text/x-python",
   "name": "python",
   "nbconvert_exporter": "python",
   "pygments_lexer": "ipython3",
   "version": "3.10.8"
  }
 },
 "nbformat": 4,
 "nbformat_minor": 2
}
